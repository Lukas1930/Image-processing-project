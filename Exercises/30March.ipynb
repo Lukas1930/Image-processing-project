{
 "cells": [
  {
   "cell_type": "markdown",
   "metadata": {},
   "source": [
    "# From array to grayscale image\n",
    "\n",
    "• Use numpy (for example, the repeat function) to create a 5x5 pixel array\n",
    "with 0s and 1s. For example you can try to create black and white stripes,\n",
    "or a checkerboard pattern. Set the middle pixel to 0.5"
   ]
  },
  {
   "cell_type": "code",
   "execution_count": 12,
   "metadata": {},
   "outputs": [],
   "source": [
    "import numpy as np\n",
    "import matplotlib.pyplot as plt"
   ]
  },
  {
   "cell_type": "code",
   "execution_count": 13,
   "metadata": {},
   "outputs": [
    {
     "name": "stdout",
     "output_type": "stream",
     "text": [
      "[[1.  0.  1.  0.  1. ]\n",
      " [0.  1.  0.  1.  0. ]\n",
      " [1.  0.  0.5 0.  1. ]\n",
      " [0.  1.  0.  1.  0. ]\n",
      " [1.  0.  1.  0.  1. ]]\n"
     ]
    }
   ],
   "source": [
    "# Create a 5x5 array of 0s and 1s\n",
    "arr = np.array([[1, 0, 1, 0, 1],\n",
    "                [0, 1, 0, 1, 0],\n",
    "                [1, 0, 1, 0, 1],\n",
    "                [0, 1, 0, 1, 0],\n",
    "                [1, 0, 1, 0, 1]], dtype=\"float\")\n",
    "\n",
    "# Set the middle pixel to 0.5\n",
    "arr[2, 2] = 0.5\n",
    "print(arr)"
   ]
  },
  {
   "cell_type": "markdown",
   "metadata": {},
   "source": [
    "• Multiple the entire image by 255 and store this in another variable. Check\n",
    "that the dimensions of the image stay the same.\n"
   ]
  },
  {
   "cell_type": "code",
   "execution_count": 14,
   "metadata": {},
   "outputs": [
    {
     "name": "stdout",
     "output_type": "stream",
     "text": [
      "[[255.    0.  255.    0.  255. ]\n",
      " [  0.  255.    0.  255.    0. ]\n",
      " [255.    0.  127.5   0.  255. ]\n",
      " [  0.  255.    0.  255.    0. ]\n",
      " [255.    0.  255.    0.  255. ]]\n"
     ]
    }
   ],
   "source": [
    "arr_copy = np.copy(arr) * 255\n",
    "print(arr_copy)"
   ]
  },
  {
   "cell_type": "markdown",
   "metadata": {},
   "source": [
    "• Display both images with matplotlib, What do you see? What do you need to do, to make the images appear black and white?"
   ]
  },
  {
   "cell_type": "code",
   "execution_count": 15,
   "metadata": {},
   "outputs": [
    {
     "data": {
      "image/png": "[encoded data removed]",
      "text/plain": [
       "<Figure size 432x288 with 1 Axes>"
      ]
     },
     "metadata": {
      "needs_background": "light"
     },
     "output_type": "display_data"
    }
   ],
   "source": [
    "#Without cmap=\"gray\", the images are purple/yellow\n",
    "plt.imshow(arr, cmap='gray', interpolation='nearest')\n",
    "plt.show()"
   ]
  },
  {
   "cell_type": "code",
   "execution_count": 16,
   "metadata": {},
   "outputs": [
    {
     "data": {
      "image/png": "[encoded data removed]",
      "text/plain": [
       "<Figure size 432x288 with 1 Axes>"
      ]
     },
     "metadata": {
      "needs_background": "light"
     },
     "output_type": "display_data"
    }
   ],
   "source": [
    "plt.imshow(arr_copy, cmap='gray', interpolation='nearest')\n",
    "plt.show()"
   ]
  },
  {
   "cell_type": "markdown",
   "metadata": {},
   "source": [
    "# Color image\n",
    "\n",
    "• Now try to create a 5x5 color checkerboard with random colors. This can\n",
    "be done in 1 line with the randint function from numpy.random. Display\n",
    "the image"
   ]
  },
  {
   "cell_type": "code",
   "execution_count": 17,
   "metadata": {},
   "outputs": [
    {
     "name": "stdout",
     "output_type": "stream",
     "text": [
      "[[[130, 160, 160], [166, 149, 6], [69, 5, 52], [253, 112, 14], [1, 3, 76]], [[248, 87, 233], [212, 184, 235], [245, 26, 213], [157, 253, 68], [240, 37, 219]], [[91, 54, 129], [9, 51, 0], [191, 20, 140], [46, 187, 147], [1, 254, 20]], [[153, 243, 46], [160, 68, 19], [158, 203, 209], [226, 77, 57], [77, 149, 156]], [[21, 112, 86], [134, 252, 24], [207, 1, 235], [242, 147, 110], [88, 107, 231]]]\n"
     ]
    },
    {
     "data": {
      "image/png": "[encoded data removed]",
      "text/plain": [
       "<Figure size 432x288 with 1 Axes>"
      ]
     },
     "metadata": {
      "needs_background": "light"
     },
     "output_type": "display_data"
    }
   ],
   "source": [
    "coloured = np.random.randint(0, 256, (5, 5, 3), dtype=np.uint8).tolist()\n",
    "\n",
    "print(coloured)\n",
    "\n",
    "plt.imshow(coloured, interpolation='nearest')\n",
    "plt.show()"
   ]
  },
  {
   "cell_type": "markdown",
   "metadata": {},
   "source": [
    "\n",
    "• If you run the code above again, the image will change. You will need to\n",
    "set the random seed, for the image to stay the same."
   ]
  },
  {
   "cell_type": "code",
   "execution_count": 18,
   "metadata": {},
   "outputs": [
    {
     "name": "stdout",
     "output_type": "stream",
     "text": [
      "[[[102, 220, 225], [95, 179, 61], [234, 203, 92], [3, 98, 243], [14, 149, 245]], [[46, 106, 244], [99, 187, 71], [212, 153, 199], [188, 174, 65], [153, 20, 44]], [[203, 152, 102], [214, 240, 39], [121, 24, 34], [114, 210, 65], [239, 39, 214]], [[244, 151, 25], [74, 145, 222], [14, 202, 85], [145, 117, 87], [184, 189, 221]], [[116, 237, 109], [85, 99, 172], [226, 153, 103], [235, 146, 36], [151, 62, 68]]]\n"
     ]
    },
    {
     "data": {
      "image/png": "[encoded data removed]",
      "text/plain": [
       "<Figure size 432x288 with 1 Axes>"
      ]
     },
     "metadata": {
      "needs_background": "light"
     },
     "output_type": "display_data"
    }
   ],
   "source": [
    "np.random.seed(42)\n",
    "coloured = np.random.randint(0, 256, (5, 5, 3), dtype=np.uint8).tolist()\n",
    "\n",
    "print(coloured)\n",
    "\n",
    "plt.imshow(coloured, interpolation='nearest')\n",
    "plt.show()"
   ]
  },
  {
   "cell_type": "markdown",
   "metadata": {},
   "source": [
    "\n",
    "• Compare how you would describe the colors, to the RGB values of the\n",
    "pixels. Are you able to define what kind of values would translate into for\n",
    "example red, brown, or yellow?\n",
    "\n",
    "No :("
   ]
  },
  {
   "cell_type": "markdown",
   "metadata": {},
   "source": [
    "• Display the R,G,B channels as images separately. Do the individual values\n",
    "tell you enough about the colors of the pixels?"
   ]
  },
  {
   "cell_type": "code",
   "execution_count": 20,
   "metadata": {},
   "outputs": [
    {
     "data": {
      "image/png": "[encoded data removed]",
      "text/plain": [
       "<Figure size 864x288 with 3 Axes>"
      ]
     },
     "metadata": {
      "needs_background": "light"
     },
     "output_type": "display_data"
    }
   ],
   "source": [
    "# Convert the list to a NumPy array for easier manipulation\n",
    "arr = np.array(coloured)\n",
    "\n",
    "# Display the R, G, B channels as separate images\n",
    "fig, (ax1, ax2, ax3) = plt.subplots(1, 3, figsize=(12, 4))\n",
    "\n",
    "ax1.imshow(arr[:,:,0], cmap='Reds')\n",
    "ax1.set_title('Red Channel')\n",
    "\n",
    "ax2.imshow(arr[:,:,1], cmap='Greens')\n",
    "ax2.set_title('Green Channel')\n",
    "\n",
    "ax3.imshow(arr[:,:,2], cmap='Blues')\n",
    "ax3.set_title('Blue Channel')\n",
    "\n",
    "plt.show()"
   ]
  },
  {
   "cell_type": "markdown",
   "metadata": {},
   "source": [
    "# Resizing an image\n",
    "\n",
    "• Load a color image, it can be an image from the dataset or for example a\n",
    "photo that’s at least 500x500 pixels. Store the original size in pixels, and\n",
    "The original size in bytes, in different variables.\n",
    "\n",
    "• Explore the documentation for skimage.transform. Try to resize the\n",
    "image to 20% of its size in each dimension, and save the image as a different\n",
    "file. Record the new size in bytes, how much does it change?\n",
    "\n",
    "• Explore the documentation for skimage.util which has several functions\n",
    "for converting the image to different formats. Can you decrease the image\n",
    "size in bytes, without changing the image size in pixels? How does this\n",
    "affect the image quality?\n",
    "\n",
    "# Cropping image based on the mask\n",
    "\n",
    "• Load an image and its mask, store these in im and mask.\n",
    "• Use the numpy package together with mask to find out the minimum/maximum\n",
    "coordinates where the lesion is present.\n",
    "\n",
    "• Create padded image, which extracts only the lesion from the image, with\n",
    "a bit of padding on each side.\n",
    "\n",
    "# Create some masks\n",
    "\n",
    "Create some lesion masks for a few images in the dataset. You can do this\n",
    "with a local installation of LabelStudio (labelstud.io) which the TAs can help\n",
    "you with. Other software that allows you to create your own outlines is also\n",
    "allowed."
   ]
  }
 ],
 "metadata": {
  "kernelspec": {
   "display_name": "Python 3.9.12 ('base')",
   "language": "python",
   "name": "python3"
  },
  "language_info": {
   "codemirror_mode": {
    "name": "ipython",
    "version": 3
   },
   "file_extension": ".py",
   "mimetype": "text/x-python",
   "name": "python",
   "nbconvert_exporter": "python",
   "pygments_lexer": "ipython3",
   "version": "3.9.12"
  },
  "orig_nbformat": 4,
  "vscode": {
   "interpreter": {
    "hash": "ad2bdc8ecc057115af97d19610ffacc2b4e99fae6737bb82f5d7fb13d2f2c186"
   }
  }
 },
 "nbformat": 4,
 "nbformat_minor": 2
}
